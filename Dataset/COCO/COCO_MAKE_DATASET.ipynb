{
 "cells": [
  {
   "cell_type": "code",
   "execution_count": 1,
   "id": "paperback-baking",
   "metadata": {},
   "outputs": [],
   "source": [
    "import cv2\n",
    "import matplotlib.pyplot as plt\n",
    "import json\n",
    "import sys"
   ]
  },
  {
   "cell_type": "code",
   "execution_count": 2,
   "id": "exclusive-zoning",
   "metadata": {},
   "outputs": [],
   "source": [
    "with open('/home/lab/cocodataset/annotations/annotations/person_keypoints_train2017.json') as json_file:\n",
    "    json_data=json.load(json_file)"
   ]
  },
  {
   "cell_type": "code",
   "execution_count": 3,
   "id": "relative-irrigation",
   "metadata": {},
   "outputs": [
    {
     "data": {
      "text/plain": [
       "6.561625"
      ]
     },
     "execution_count": 3,
     "metadata": {},
     "output_type": "execute_result"
    }
   ],
   "source": [
    "len(json_data['annotations'])/40000"
   ]
  },
  {
   "cell_type": "code",
   "execution_count": 4,
   "id": "buried-return",
   "metadata": {},
   "outputs": [
    {
     "data": {
      "text/plain": [
       "7"
      ]
     },
     "execution_count": 4,
     "metadata": {},
     "output_type": "execute_result"
    }
   ],
   "source": [
    "import math\n",
    "math.ceil(len(json_data['annotations'])/40000)"
   ]
  },
  {
   "cell_type": "markdown",
   "id": "bright-segment",
   "metadata": {},
   "source": [
    "# Lack of Ram  \n",
    "\n",
    "## annotaions list split 40000  \n",
    "\n",
    "## Num_keypoint > 13"
   ]
  },
  {
   "cell_type": "code",
   "execution_count": 5,
   "id": "peripheral-oasis",
   "metadata": {},
   "outputs": [],
   "source": [
    "list_json=[]\n",
    "for i in range(math.ceil(len(json_data['annotations'])/40000)):\n",
    "    if i !=6:\n",
    "        list_json.append(json_data['annotations'][i*40000:(i+1)*40000])\n",
    "    else:\n",
    "        list_json.append(json_data['annotations'][i*40000:])"
   ]
  },
  {
   "cell_type": "code",
   "execution_count": 6,
   "id": "intimate-remove",
   "metadata": {},
   "outputs": [
    {
     "data": {
      "text/plain": [
       "7"
      ]
     },
     "execution_count": 6,
     "metadata": {},
     "output_type": "execute_result"
    }
   ],
   "source": [
    "len(list_json)"
   ]
  },
  {
   "cell_type": "code",
   "execution_count": 7,
   "id": "expressed-chambers",
   "metadata": {},
   "outputs": [
    {
     "data": {
      "text/plain": [
       "40000"
      ]
     },
     "execution_count": 7,
     "metadata": {},
     "output_type": "execute_result"
    }
   ],
   "source": [
    "len(list_json[0])"
   ]
  },
  {
   "cell_type": "code",
   "execution_count": 8,
   "id": "distributed-uniform",
   "metadata": {},
   "outputs": [],
   "source": [
    "def make_keypoint(keypoint,bbox):\n",
    "    list_kp=[]\n",
    "    if int(len(keypoint)/3) != len(keypoint)/3:\n",
    "        print(\"NO Matching\")\n",
    "        sys.exit()\n",
    "        \n",
    "    for i in range(int(len(keypoint)/3)):\n",
    "        coordinate=[]\n",
    "        x=keypoint[i*3]\n",
    "        y=keypoint[i*3+1]\n",
    "        v=keypoint[i*3+2]\n",
    "        coordinate.append(x)\n",
    "        coordinate.append(y)\n",
    "        coordinate.append(v)\n",
    "        list_kp.append(coordinate)\n",
    "    i_x=int(bbox[0])\n",
    "    i_y=int(bbox[1])\n",
    "    new_list=[]\n",
    "    for i in list_kp:\n",
    "        i[0]=i[0]-i_x\n",
    "        i[1]=i[1]-i_y\n",
    "        new_list.append(i)\n",
    "    return new_list"
   ]
  },
  {
   "cell_type": "code",
   "execution_count": 9,
   "id": "related-legislation",
   "metadata": {},
   "outputs": [],
   "source": [
    "from tqdm import tqdm, tqdm_notebook\n",
    "from tqdm import trange\n",
    "import time"
   ]
  },
  {
   "cell_type": "code",
   "execution_count": 10,
   "id": "suited-kidney",
   "metadata": {},
   "outputs": [],
   "source": [
    "def COCO_Make_dataset(json_data):\n",
    "    img_path='/home/lab/cocodataset/train2017/train2017/000000'\n",
    "    jpg='.jpg'\n",
    "    list_img=[]\n",
    "    kp_list=[]\n",
    "    crowd=[]\n",
    "    for i in tqdm(json_data):\n",
    "        time.sleep(0.00000001)\n",
    "        if i['num_keypoints']>13:\n",
    "            bbox=i['bbox']\n",
    "            img=i['image_id']\n",
    "            keypoint=i['keypoints']\n",
    "            crowd.append(i['iscrowd'])\n",
    "            img=str(img)\n",
    "            if len(img)>6:\n",
    "                print(\"up 6-len name\")\n",
    "            while len(img)<6:\n",
    "                img='0'+img\n",
    "            image=cv2.imread(img_path+img+jpg)\n",
    "            i_x=int(bbox[0])\n",
    "            i_y=int(bbox[1])\n",
    "            i_w=int(bbox[2])\n",
    "            i_h=int(bbox[3])\n",
    "            b_img=image[i_y : i_y+i_h , i_x : i_x+i_w]\n",
    "            list_img.append(b_img)\n",
    "            kp_list.append(make_keypoint(keypoint,bbox))\n",
    "    return kp_list, list_img, crowd"
   ]
  },
  {
   "cell_type": "code",
   "execution_count": 12,
   "id": "expired-couple",
   "metadata": {},
   "outputs": [
    {
     "name": "stderr",
     "output_type": "stream",
     "text": [
      "100%|██████████| 40000/40000 [00:42<00:00, 941.84it/s] \n"
     ]
    }
   ],
   "source": [
    "kp_list,list_img,crowd=COCO_Make_dataset(list_json[1])"
   ]
  },
  {
   "cell_type": "code",
   "execution_count": 13,
   "id": "threatened-confidence",
   "metadata": {},
   "outputs": [
    {
     "data": {
      "text/plain": [
       "(8331, 8331, 8331)"
      ]
     },
     "execution_count": 13,
     "metadata": {},
     "output_type": "execute_result"
    }
   ],
   "source": [
    "len(kp_list), len(list_img), len(crowd)"
   ]
  },
  {
   "cell_type": "code",
   "execution_count": 14,
   "id": "posted-nudist",
   "metadata": {},
   "outputs": [
    {
     "name": "stderr",
     "output_type": "stream",
     "text": [
      "/home/lab/anaconda3/envs/pytorch/lib/python3.6/site-packages/ipykernel_launcher.py:3: VisibleDeprecationWarning: Creating an ndarray from ragged nested sequences (which is a list-or-tuple of lists-or-tuples-or ndarrays with different lengths or shapes) is deprecated. If you meant to do this, you must specify 'dtype=object' when creating the ndarray\n",
      "  This is separate from the ipykernel package so we can avoid doing imports until\n"
     ]
    }
   ],
   "source": [
    "import numpy as np\n",
    "kp_list=np.array(kp_list)\n",
    "list_img=np.array(list_img)\n",
    "crowd=np.array(crowd)"
   ]
  },
  {
   "cell_type": "code",
   "execution_count": 15,
   "id": "atmospheric-bermuda",
   "metadata": {},
   "outputs": [],
   "source": [
    "np.save('/home/lab/MPII_COCO/COCO_Dataset/train2017/list_2_kp',kp_list)\n",
    "np.save('/home/lab/MPII_COCO/COCO_Dataset/train2017/list_2_img',list_img)\n",
    "np.save('/home/lab/MPII_COCO/COCO_Dataset/train2017/list_2_crowd',crowd)"
   ]
  },
  {
   "cell_type": "code",
   "execution_count": null,
   "id": "gothic-advertiser",
   "metadata": {},
   "outputs": [],
   "source": []
  }
 ],
 "metadata": {
  "kernelspec": {
   "display_name": "Python 3",
   "language": "python",
   "name": "python3"
  },
  "language_info": {
   "codemirror_mode": {
    "name": "ipython",
    "version": 3
   },
   "file_extension": ".py",
   "mimetype": "text/x-python",
   "name": "python",
   "nbconvert_exporter": "python",
   "pygments_lexer": "ipython3",
   "version": "3.6.12"
  }
 },
 "nbformat": 4,
 "nbformat_minor": 5
}
