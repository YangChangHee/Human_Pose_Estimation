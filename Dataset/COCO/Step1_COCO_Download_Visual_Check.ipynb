{
 "cells": [
  {
   "cell_type": "markdown",
   "id": "random-tablet",
   "metadata": {},
   "source": [
    "mkdir coco  \n",
    "cd coco  \n",
    "mkdir images  \n",
    "cd images  \n",
    "\n",
    "!wget http://images.cocodataset.org/zips/train2017.zip  \n",
    "unzip train2017.zip  \n",
    "rm train2017.zip  \n",
    "\n",
    "Reference : https://gist.github.com/mkocabas/a6177fc00315403d31572e17700d7fd9  "
   ]
  },
  {
   "cell_type": "code",
   "execution_count": 1,
   "id": "committed-organic",
   "metadata": {},
   "outputs": [],
   "source": [
    "import cv2\n",
    "import matplotlib.pyplot as plt\n",
    "import json\n",
    "import sys"
   ]
  },
  {
   "cell_type": "code",
   "execution_count": 2,
   "id": "incredible-bunny",
   "metadata": {},
   "outputs": [],
   "source": [
    "img_path='/home/lab/cocodataset/train2017/train2017/000000' # your directory\n",
    "jpg='.jpg'\n",
    "json_path= '/home/lab/cocodataset/annotations/annotations/person_keypoints_train2017.json' # your directory"
   ]
  },
  {
   "cell_type": "code",
   "execution_count": 3,
   "id": "driven-presence",
   "metadata": {},
   "outputs": [],
   "source": [
    "with open(json_path) as json_file:\n",
    "    json_data=json.load(json_file)"
   ]
  },
  {
   "cell_type": "code",
   "execution_count": 4,
   "id": "damaged-holocaust",
   "metadata": {},
   "outputs": [],
   "source": [
    "def make_keypoint(keypoint,bbox,k_name):\n",
    "    list_kp=[]\n",
    "    if int(len(keypoint)/3) != len(keypoint)/3:\n",
    "        print(\"NO Matching\")\n",
    "        sys.exit()\n",
    "        \n",
    "    for i in range(int(len(keypoint)/3)):\n",
    "        coordinate=[]\n",
    "        x=keypoint[i*3]\n",
    "        y=keypoint[i*3+1]\n",
    "        v=keypoint[i*3+2]\n",
    "        coordinate.append(x)\n",
    "        coordinate.append(y)\n",
    "        coordinate.append(v)\n",
    "        list_kp.append(coordinate)\n",
    "    i_x=int(bbox[0])\n",
    "    i_y=int(bbox[1])\n",
    "    i_w=int(bbox[2])\n",
    "    i_h=int(bbox[3])\n",
    "    new_list=[]\n",
    "    for n,i in enumerate(list_kp):\n",
    "        if i[2]==0:\n",
    "            print(\"No coordinate :\",k_name[n])\n",
    "        elif i[2]==1: \n",
    "            print(\"Yes coordinate(Invisible) : \",k_name[n])\n",
    "            i[0]=i[0]-i_x\n",
    "            i[1]=i[1]-i_y\n",
    "            new_list.append(i)\n",
    "        elif i[2]==2:\n",
    "            print(\"Yes coordinate : \",k_name[n])\n",
    "            i[0]=i[0]-i_x\n",
    "            i[1]=i[1]-i_y\n",
    "            new_list.append(i)\n",
    "    return new_list"
   ]
  },
  {
   "cell_type": "code",
   "execution_count": 5,
   "id": "israeli-theology",
   "metadata": {},
   "outputs": [],
   "source": [
    "def COCO_Visualization(json_data,index):\n",
    "    N_KP=json_data['annotations'][index]['num_keypoints']\n",
    "    img=json_data['annotations'][index]['image_id']\n",
    "    keypoint=json_data['annotations'][index]['keypoints']\n",
    "    crowd=json_data['annotations'][index]['iscrowd']\n",
    "    bbox=json_data['annotations'][index]['bbox']\n",
    "    k_name=json_data['categories'][0]['keypoints']\n",
    "    img=str(img)\n",
    "    while len(img)<6:\n",
    "        img='0'+img\n",
    "    print(img)\n",
    "    print(type(N_KP))\n",
    "    list_kp=make_keypoint(keypoint,bbox,k_name)\n",
    "    img=cv2.imread(img_path+img+jpg)\n",
    "    i_x=int(bbox[0])\n",
    "    i_y=int(bbox[1])\n",
    "    i_w=int(bbox[2])\n",
    "    i_h=int(bbox[3])\n",
    "    b_img=img[i_y : i_y+i_h , i_x : i_x+i_w]\n",
    "    plt.imshow(b_img)\n",
    "    for i in list_kp:\n",
    "        plt.scatter(i[0],i[1])\n",
    "    print('is_crowd? : ',crowd)\n",
    "    print('Num_keypoint : ', N_KP)"
   ]
  },
  {
   "cell_type": "code",
   "execution_count": 6,
   "id": "natural-geometry",
   "metadata": {},
   "outputs": [
    {
     "name": "stdout",
     "output_type": "stream",
     "text": [
      "065661\n",
      "<class 'int'>\n",
      "Yes coordinate(Invisible) :  nose\n",
      "Yes coordinate :  left_eye\n",
      "No coordinate : right_eye\n",
      "Yes coordinate :  left_ear\n",
      "No coordinate : right_ear\n",
      "Yes coordinate :  left_shoulder\n",
      "Yes coordinate :  right_shoulder\n",
      "No coordinate : left_elbow\n",
      "No coordinate : right_elbow\n",
      "No coordinate : left_wrist\n",
      "No coordinate : right_wrist\n",
      "Yes coordinate(Invisible) :  left_hip\n",
      "Yes coordinate :  right_hip\n",
      "Yes coordinate(Invisible) :  left_knee\n",
      "Yes coordinate :  right_knee\n",
      "Yes coordinate(Invisible) :  left_ankle\n",
      "Yes coordinate :  right_ankle\n",
      "is_crowd? :  0\n",
      "Num_keypoint :  11\n"
     ]
    },
    {
     "data": {
      "image/png": "[encoded data removed]",
      "text/plain": [
       "<Figure size 432x288 with 1 Axes>"
      ]
     },
     "metadata": {
      "needs_background": "light"
     },
     "output_type": "display_data"
    }
   ],
   "source": [
    "COCO_Visualization(json_data,2000)"
   ]
  }
 ],
 "metadata": {
  "kernelspec": {
   "display_name": "Python 3",
   "language": "python",
   "name": "python3"
  },
  "language_info": {
   "codemirror_mode": {
    "name": "ipython",
    "version": 3
   },
   "file_extension": ".py",
   "mimetype": "text/x-python",
   "name": "python",
   "nbconvert_exporter": "python",
   "pygments_lexer": "ipython3",
   "version": "3.6.12"
  }
 },
 "nbformat": 4,
 "nbformat_minor": 5
}
