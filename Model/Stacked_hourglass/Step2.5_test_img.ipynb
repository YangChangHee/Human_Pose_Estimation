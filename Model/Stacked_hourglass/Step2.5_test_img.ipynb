{
 "cells": [
  {
   "cell_type": "markdown",
   "id": "promotional-quantity",
   "metadata": {},
   "source": [
    "# img transform"
   ]
  },
  {
   "cell_type": "code",
   "execution_count": 1,
   "id": "blind-shield",
   "metadata": {},
   "outputs": [],
   "source": [
    "import pose"
   ]
  },
  {
   "cell_type": "code",
   "execution_count": 2,
   "id": "together-facing",
   "metadata": {},
   "outputs": [],
   "source": [
    "config=pose.__config__"
   ]
  },
  {
   "cell_type": "code",
   "execution_count": 3,
   "id": "helpful-width",
   "metadata": {},
   "outputs": [],
   "source": [
    "import ref as ds"
   ]
  },
  {
   "cell_type": "code",
   "execution_count": null,
   "id": "configured-accent",
   "metadata": {},
   "outputs": [
    {
     "name": "stdout",
     "output_type": "stream",
     "text": [
      "loading data...\n"
     ]
    }
   ],
   "source": [
    "ds.init()"
   ]
  },
  {
   "cell_type": "code",
   "execution_count": null,
   "id": "stuck-actress",
   "metadata": {},
   "outputs": [],
   "source": [
    "orig_keypoint=ds.get_kps(0)\n",
    "c=ds.get_center(0)\n",
    "s=ds.get_scale(0)"
   ]
  },
  {
   "cell_type": "code",
   "execution_count": null,
   "id": "requested-prisoner",
   "metadata": {},
   "outputs": [],
   "source": [
    "input_res=config['train']['input_res']"
   ]
  },
  {
   "cell_type": "code",
   "execution_count": 37,
   "id": "ongoing-smoke",
   "metadata": {},
   "outputs": [],
   "source": [
    "import numpy as np\n",
    "def get_transform(center, scale, res, rot=0):\n",
    "    # Generate transformation matrix\n",
    "    h = 200 * scale\n",
    "    t = np.zeros((3, 3))\n",
    "    t[0, 0] = float(res[1]) / h\n",
    "    t[1, 1] = float(res[0]) / h\n",
    "    t[0, 2] = res[1] * (-float(center[0]) / h + .5)\n",
    "    t[1, 2] = res[0] * (-float(center[1]) / h + .5)\n",
    "    t[2, 2] = 1\n",
    "    print(\"t : \")\n",
    "    print(t)\n",
    "    if not rot == 0:\n",
    "        rot = -rot # To match direction of rotation from cropping\n",
    "        rot_mat = np.zeros((3,3))\n",
    "        rot_rad = rot * np.pi / 180\n",
    "        sn,cs = np.sin(rot_rad), np.cos(rot_rad)\n",
    "        rot_mat[0,:2] = [cs, -sn]\n",
    "        rot_mat[1,:2] = [sn, cs]\n",
    "        rot_mat[2,2] = 1\n",
    "        # Need to rotate around center\n",
    "        t_mat = np.eye(3)\n",
    "        t_mat[0,2] = -res[1]/2\n",
    "        t_mat[1,2] = -res[0]/2\n",
    "        t_inv = t_mat.copy()\n",
    "        t_inv[:2,2] *= -1\n",
    "        t = np.dot(t_inv,np.dot(rot_mat,np.dot(t_mat,t)))\n",
    "    return t"
   ]
  },
  {
   "cell_type": "code",
   "execution_count": 38,
   "id": "animated-breach",
   "metadata": {},
   "outputs": [
    {
     "name": "stdout",
     "output_type": "stream",
     "text": [
      "t : \n",
      "[[  0.33895543   0.         -73.33952428]\n",
      " [  0.           0.33895543  25.52845498]\n",
      " [  0.           0.           1.        ]]\n"
     ]
    },
    {
     "data": {
      "text/plain": [
       "array([[  0.33895543,   0.        , -73.33952428],\n",
       "       [  0.        ,   0.33895543,  25.52845498],\n",
       "       [  0.        ,   0.        ,   1.        ]])"
      ]
     },
     "execution_count": 38,
     "metadata": {},
     "output_type": "execute_result"
    }
   ],
   "source": [
    "get_transform(c,s,(input_res,input_res))"
   ]
  },
  {
   "cell_type": "code",
   "execution_count": 41,
   "id": "extreme-outdoors",
   "metadata": {},
   "outputs": [],
   "source": [
    "def transform(pt, center, scale, res, invert=0, rot=0):\n",
    "    print(\"keypoint : \",pt)\n",
    "    # Transform pixel location to different reference\n",
    "    t = get_transform(center, scale, res, rot=rot)\n",
    "    if invert:\n",
    "        #normal => Not true\n",
    "        t = np.linalg.inv(t)\n",
    "    new_pt = np.array([pt[0], pt[1], 1.]).T\n",
    "    print(\"new_keypoint : \", new_pt)\n",
    "    new_pt = np.dot(t, new_pt)\n",
    "    print(\"final_keypoint : \",new_pt)\n",
    "    return new_pt[:2].astype(int)"
   ]
  },
  {
   "cell_type": "code",
   "execution_count": 42,
   "id": "incorporate-plaza",
   "metadata": {},
   "outputs": [
    {
     "name": "stdout",
     "output_type": "stream",
     "text": [
      "keypoint :  [620. 394.]\n",
      "t : \n",
      "[[  0.33895543   0.         -73.33952428]\n",
      " [  0.           0.33895543  25.52845498]\n",
      " [  0.           0.           1.        ]]\n",
      "new_keypoint :  [620. 394.   1.]\n",
      "final_keypoint :  [136.81284113 159.07689365   1.        ]\n"
     ]
    },
    {
     "data": {
      "text/plain": [
       "array([136, 159])"
      ]
     },
     "execution_count": 42,
     "metadata": {},
     "output_type": "execute_result"
    }
   ],
   "source": [
    "transform(orig_keypoint[0,0,:2],c,s,(input_res,input_res))"
   ]
  },
  {
   "cell_type": "code",
   "execution_count": 26,
   "id": "economic-bottle",
   "metadata": {},
   "outputs": [
    {
     "data": {
      "text/plain": [
       "array([620., 394.])"
      ]
     },
     "execution_count": 26,
     "metadata": {},
     "output_type": "execute_result"
    }
   ],
   "source": [
    "orig_keypoint[0,0,:2]"
   ]
  },
  {
   "cell_type": "code",
   "execution_count": null,
   "id": "bored-savings",
   "metadata": {},
   "outputs": [],
   "source": []
  }
 ],
 "metadata": {
  "kernelspec": {
   "display_name": "Python 3",
   "language": "python",
   "name": "python3"
  },
  "language_info": {
   "codemirror_mode": {
    "name": "ipython",
    "version": 3
   },
   "file_extension": ".py",
   "mimetype": "text/x-python",
   "name": "python",
   "nbconvert_exporter": "python",
   "pygments_lexer": "ipython3",
   "version": "3.6.12"
  }
 },
 "nbformat": 4,
 "nbformat_minor": 5
}
